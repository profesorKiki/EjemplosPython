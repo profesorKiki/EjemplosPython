{
  "nbformat": 4,
  "nbformat_minor": 0,
  "metadata": {
    "colab": {
      "provenance": [],
      "authorship_tag": "ABX9TyNPXFhJjX79v4NXi4NJVB/G",
      "include_colab_link": true
    },
    "kernelspec": {
      "name": "python3",
      "display_name": "Python 3"
    },
    "language_info": {
      "name": "python"
    }
  },
  "cells": [
    {
      "cell_type": "markdown",
      "metadata": {
        "id": "view-in-github",
        "colab_type": "text"
      },
      "source": [
        "<a href=\"https://colab.research.google.com/github/profesorKiki/EjemplosPython/blob/main/Creaci%C3%B3nDeProcesos_y_Nohup.ipynb\" target=\"_parent\"><img src=\"https://colab.research.google.com/assets/colab-badge.svg\" alt=\"Open In Colab\"/></a>"
      ]
    },
    {
      "cell_type": "markdown",
      "source": [
        "# Práctica de procesos"
      ],
      "metadata": {
        "id": "O-jNV8PNf0XK"
      }
    },
    {
      "cell_type": "markdown",
      "source": [
        "Ejemplo en **Python**"
      ],
      "metadata": {
        "id": "L49n8MeYF7yU"
      }
    },
    {
      "cell_type": "code",
      "execution_count": 71,
      "metadata": {
        "colab": {
          "base_uri": "https://localhost:8080/"
        },
        "id": "77B0w4e3e2Nz",
        "outputId": "5c6d05b8-bc02-436e-8b36-2ec2747599d2"
      },
      "outputs": [
        {
          "output_type": "stream",
          "name": "stdout",
          "text": [
            "Overwriting fork.py\n"
          ]
        }
      ],
      "source": [
        "%%writefile fork.py\n",
        "import sys\n",
        "import os\n",
        "import time\n",
        "\n",
        "MAX_CHILD = 2\n",
        "\n",
        "print( f\"Proceso padre ({ os.getpid() })\", flush=True )\n",
        "\n",
        "for i in range(MAX_CHILD):\n",
        "    pid = os.fork()\n",
        "\n",
        "    if pid < 0:\n",
        "        sys.exit(\"Error al crear el nuevo proceso\")\n",
        "\n",
        "    if pid == 0:\n",
        "        print(f\"Hijo {i+1} ({ os.getpid() }) - Mi padre es ({ os.getppid() })\",flush=True)\n",
        "        time.sleep(15)\n",
        "        os._exit(0)\n",
        "\n",
        "for _ in range(2):\n",
        "    print( os.wait() )\n"
      ]
    },
    {
      "cell_type": "code",
      "source": [
        "!nohup python fork.py 1>salida 2>/dev/null &"
      ],
      "metadata": {
        "id": "TDs2yk5H31wL"
      },
      "execution_count": 72,
      "outputs": []
    },
    {
      "cell_type": "code",
      "source": [
        "!pstree -pc 23148"
      ],
      "metadata": {
        "colab": {
          "base_uri": "https://localhost:8080/"
        },
        "id": "Uv_ReTVE38Kh",
        "outputId": "a5c3c324-182e-49b7-aad7-d0aa37ad896d"
      },
      "execution_count": 73,
      "outputs": [
        {
          "output_type": "stream",
          "name": "stdout",
          "text": [
            "python3(23148)─┬─python3(23150)\n",
            "               └─python3(23151)\n"
          ]
        }
      ]
    },
    {
      "cell_type": "markdown",
      "source": [
        "Ejemplo en **Java**"
      ],
      "metadata": {
        "id": "iBi2IVjAbsu7"
      }
    },
    {
      "cell_type": "code",
      "source": [
        "%%writefile Padre.java\n",
        "import java.io.IOException;\n",
        "\n",
        "public class Padre\n",
        "{\n",
        "    public static void main(String[] args) throws IOException,  InterruptedException\n",
        "    {\n",
        "        ProcessBuilder pb = new ProcessBuilder(\"java\", \"Hijo.java\");\n",
        "        pb.redirectErrorStream(true);\n",
        "        pb.inheritIO();\n",
        "\n",
        "        Process proceso = pb.start();\n",
        "\n",
        "        int error = proceso.waitFor();\n",
        "\n",
        "        if( error != 0 )\n",
        "        {\n",
        "            System.out.println(\"Error al ejecutar el programa\");\n",
        "        }\n",
        "    }\n",
        "}"
      ],
      "metadata": {
        "id": "AAmu_hh_BkrC",
        "colab": {
          "base_uri": "https://localhost:8080/"
        },
        "outputId": "533f833d-e78f-44fc-8f5e-6e092805a43a"
      },
      "execution_count": 82,
      "outputs": [
        {
          "output_type": "stream",
          "name": "stdout",
          "text": [
            "Overwriting Padre.java\n"
          ]
        }
      ]
    },
    {
      "cell_type": "code",
      "source": [
        "%%writefile Hijo.java\n",
        "class Hijo\n",
        "{\n",
        "    public static void main(String[] args) throws InterruptedException\n",
        "    {\n",
        "        ProcessHandle yo = ProcessHandle.current();\n",
        "        long pid  = yo.pid();\n",
        "        long ppid = yo.parent().get().pid();\n",
        "        System.out.println(\"Hijo: \" + pid + \". Padre: \" + ppid );\n",
        "        Thread.sleep(15000);\n",
        "    }\n",
        "}"
      ],
      "metadata": {
        "colab": {
          "base_uri": "https://localhost:8080/"
        },
        "id": "y6E-vq1cd6nE",
        "outputId": "53dc7f92-e24f-40e8-b733-5794d3a035b3"
      },
      "execution_count": 94,
      "outputs": [
        {
          "output_type": "stream",
          "name": "stdout",
          "text": [
            "Overwriting Hijo.java\n"
          ]
        }
      ]
    },
    {
      "cell_type": "code",
      "source": [
        "!nohup java Padre.java 1>salida 2>/dev/null &"
      ],
      "metadata": {
        "id": "_iGE3rCQeSQK"
      },
      "execution_count": 102,
      "outputs": []
    },
    {
      "cell_type": "code",
      "source": [
        "!pstree -pT 27508"
      ],
      "metadata": {
        "colab": {
          "base_uri": "https://localhost:8080/"
        },
        "id": "VHh3qxEQehA7",
        "outputId": "af7da9b0-3227-4683-debb-11dd80f7ccd3"
      },
      "execution_count": 103,
      "outputs": [
        {
          "output_type": "stream",
          "name": "stdout",
          "text": [
            "java(27508)───java(27531)\n"
          ]
        }
      ]
    }
  ]
}