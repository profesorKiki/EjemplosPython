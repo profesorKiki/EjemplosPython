{
  "nbformat": 4,
  "nbformat_minor": 0,
  "metadata": {
    "colab": {
      "provenance": [],
      "authorship_tag": "ABX9TyNxJH9sPzonGJu0JeK2ReaC",
      "include_colab_link": true
    },
    "kernelspec": {
      "name": "python3",
      "display_name": "Python 3"
    },
    "language_info": {
      "name": "python"
    }
  },
  "cells": [
    {
      "cell_type": "markdown",
      "metadata": {
        "id": "view-in-github",
        "colab_type": "text"
      },
      "source": [
        "<a href=\"https://colab.research.google.com/github/profesorKiki/EjemplosPython/blob/main/EjemplosSincronismo.ipynb\" target=\"_parent\"><img src=\"https://colab.research.google.com/assets/colab-badge.svg\" alt=\"Open In Colab\"/></a>"
      ]
    },
    {
      "cell_type": "markdown",
      "source": [
        "C++"
      ],
      "metadata": {
        "id": "_FvOnSOmMW4P"
      }
    },
    {
      "cell_type": "markdown",
      "source": [
        "Prueba con variable no atómica"
      ],
      "metadata": {
        "id": "wvmyAD71DwNz"
      }
    },
    {
      "cell_type": "code",
      "execution_count": 5,
      "metadata": {
        "id": "cmWO16UE6H-N",
        "colab": {
          "base_uri": "https://localhost:8080/"
        },
        "outputId": "e21cdeb8-7d02-4af3-a703-5888064244d9"
      },
      "outputs": [
        {
          "output_type": "stream",
          "name": "stdout",
          "text": [
            "Writing suma.cpp\n"
          ]
        }
      ],
      "source": [
        "%%writefile suma.cpp\n",
        "#include <iostream>\n",
        "#include <thread>\n",
        "#include <vector>\n",
        "\n",
        "int count=0;\n",
        "\n",
        "void Sum()\n",
        "{\n",
        "    for (int i=0; i<100; ++i)\n",
        "    {\n",
        "        count++;\n",
        "    }\n",
        "}\n",
        "\n",
        "int main()\n",
        "{\n",
        "    std::vector<std::thread> threads;\n",
        "\n",
        "    for(int i=0; i<1000; ++i)\n",
        "    {\n",
        "        threads.push_back( std::thread(Sum) );\n",
        "    }\n",
        "\n",
        "    for(int i=0; i<1000; ++i)\n",
        "    {\n",
        "        threads[i].join();\n",
        "    }\n",
        "\n",
        "    std::cout<<\"Resultado \"<<count<<std::endl;\n",
        "\n",
        "    return EXIT_SUCCESS;\n",
        "}"
      ]
    },
    {
      "cell_type": "code",
      "source": [
        "!g++ -o suma suma.cpp"
      ],
      "metadata": {
        "id": "bLwhr7q-DDvn"
      },
      "execution_count": 6,
      "outputs": []
    },
    {
      "cell_type": "code",
      "source": [
        "!./suma"
      ],
      "metadata": {
        "colab": {
          "base_uri": "https://localhost:8080/"
        },
        "id": "2j9hyOosDVuP",
        "outputId": "fc5ac979-6005-4667-a4b4-060fd5f8f0d0"
      },
      "execution_count": 9,
      "outputs": [
        {
          "output_type": "stream",
          "name": "stdout",
          "text": [
            "Resultado 99743\n"
          ]
        }
      ]
    },
    {
      "cell_type": "markdown",
      "source": [
        "Prueba con variable atómica"
      ],
      "metadata": {
        "id": "CNi2bmOvDuqt"
      }
    },
    {
      "cell_type": "code",
      "source": [
        "%%writefile suma_atomica.cpp\n",
        "#include <iostream>\n",
        "#include <thread>\n",
        "#include <vector>\n",
        "#include <atomic>\n",
        "\n",
        "std::atomic<int> count(0);\n",
        "\n",
        "void Sum()\n",
        "{\n",
        "    for (int i=0; i<100; ++i)\n",
        "    {\n",
        "        atomic_fetch_add(&count, 1);\n",
        "    }\n",
        "}\n",
        "\n",
        "int main()\n",
        "{\n",
        "    std::vector<std::thread> threads;\n",
        "\n",
        "    for(int i=0; i<1000; ++i)\n",
        "    {\n",
        "        threads.push_back( std::thread(Sum) );\n",
        "    }\n",
        "\n",
        "    for(int i=0; i<1000; ++i)\n",
        "    {\n",
        "        threads[i].join();\n",
        "    }\n",
        "\n",
        "    std::cout<<\"Resultado \"<<count.load()<<std::endl;\n",
        "\n",
        "    return EXIT_SUCCESS;\n",
        "}"
      ],
      "metadata": {
        "colab": {
          "base_uri": "https://localhost:8080/"
        },
        "id": "sz1uyGSuDbco",
        "outputId": "c3124380-ba44-4c80-949f-44cb5b41896c"
      },
      "execution_count": 8,
      "outputs": [
        {
          "output_type": "stream",
          "name": "stdout",
          "text": [
            "Writing suma_atomica.cpp\n"
          ]
        }
      ]
    },
    {
      "cell_type": "code",
      "source": [
        "!g++ -o suma_atomica suma_atomica.cpp"
      ],
      "metadata": {
        "id": "5_yXiKLOEhvk"
      },
      "execution_count": 9,
      "outputs": []
    },
    {
      "cell_type": "code",
      "source": [
        "!./suma_atomica"
      ],
      "metadata": {
        "colab": {
          "base_uri": "https://localhost:8080/"
        },
        "id": "d5rmV4pUEnt6",
        "outputId": "67c6945c-5176-4d5c-f872-b59b90c80f49"
      },
      "execution_count": 16,
      "outputs": [
        {
          "output_type": "stream",
          "name": "stdout",
          "text": [
            "Resultado 100000\n"
          ]
        }
      ]
    },
    {
      "cell_type": "markdown",
      "source": [
        "Python garantiza atomicidad en las operaciones sobre los tipos de datos enteros y flotantes, no así para los siguientes tipos:<br>\n",
        "\n",
        "listas -> [2, 4, 8]<br>\n",
        "diccionarios -> {'a': 2, 'b': 4}<br>\n",
        "conjuntos -> {2, 4, 8}<br>\n",
        "cadenas y objetos personalizados.<br>\n",
        "<br>\n",
        "Con lo cual es recomendable garantizar la mutua exclusión con algún mecanismo de sincronización."
      ],
      "metadata": {
        "id": "M7RJj1E8Nl98"
      }
    },
    {
      "cell_type": "markdown",
      "source": [
        "Python - Lock + with"
      ],
      "metadata": {
        "id": "TudnYt2HGEuj"
      }
    },
    {
      "cell_type": "code",
      "source": [
        "import threading\n",
        "\n",
        "MAX_THREADS = 1000\n",
        "lock = threading.Lock()\n",
        "items = []\n",
        "\n",
        "def sum():\n",
        "    global items\n",
        "    for _ in range(100):\n",
        "        with lock:\n",
        "          items.append(1)\n",
        "\n",
        "def main():\n",
        "    my_threads = []\n",
        "\n",
        "    for _ in range(MAX_THREADS):\n",
        "        my_threads.append(threading.Thread(target=sum))\n",
        "\n",
        "    for i in range(MAX_THREADS):\n",
        "        my_threads[i].start()\n",
        "\n",
        "    for i in range(MAX_THREADS):\n",
        "        my_threads[i].join()\n",
        "\n",
        "    print( \"Cantidad de elementos: \", len(items) )\n",
        "\n",
        "if __name__ == '__main__':\n",
        "    main()\n",
        "\n"
      ],
      "metadata": {
        "colab": {
          "base_uri": "https://localhost:8080/"
        },
        "id": "ucRjeoTLGIF1",
        "outputId": "f6eff2be-2980-469b-bc36-35bd675e1350"
      },
      "execution_count": 4,
      "outputs": [
        {
          "output_type": "stream",
          "name": "stdout",
          "text": [
            "Cantidad de elementos:  100000\n"
          ]
        }
      ]
    },
    {
      "cell_type": "markdown",
      "source": [
        "Java: Wait y Notify"
      ],
      "metadata": {
        "id": "fl_xczJaYeyC"
      }
    },
    {
      "cell_type": "code",
      "source": [
        "%%writefile WaitNotify.java\n",
        "public class WaitNotify\n",
        "{\n",
        "    private static final int THREADS = 10;\n",
        "    private static final Object lock = new Object();\n",
        "    private static boolean condition = false;\n",
        "    private static int turn = 0;\n",
        "\n",
        "    static class MyThread extends Thread\n",
        "    {\n",
        "        private int id;\n",
        "\n",
        "        public MyThread(int id)\n",
        "        {\n",
        "            this.id = id;\n",
        "        }\n",
        "\n",
        "        public void run()\n",
        "        {\n",
        "            synchronized(lock)\n",
        "            {\n",
        "                while(turn != id)\n",
        "                {\n",
        "                    try\n",
        "                    {\n",
        "                        lock.wait();\n",
        "                    }\n",
        "                    catch(InterruptedException e)\n",
        "                    {\n",
        "                        e.printStackTrace();\n",
        "                    }\n",
        "                }\n",
        "                System.out.println(\"Hilo \" + this.id);\n",
        "                turn++;\n",
        "                lock.notifyAll();\n",
        "            }\n",
        "        }\n",
        "    }\n",
        "\n",
        "    public static void main(String[] args) throws InterruptedException\n",
        "    {\n",
        "        MyThread []threads = new MyThread[THREADS];\n",
        "\n",
        "        for(int i=0; i<THREADS; ++i)\n",
        "        {\n",
        "            threads[i] = new MyThread(i);\n",
        "        }\n",
        "\n",
        "        for(int i=0; i<THREADS; ++i)\n",
        "        {\n",
        "            threads[i].start();\n",
        "        }\n",
        "\n",
        "        for(int i=0; i<THREADS; ++i)\n",
        "        {\n",
        "            threads[i].join();\n",
        "        }\n",
        "\n",
        "        System.out.println(\"Fin del main \");\n",
        "    }\n",
        "}"
      ],
      "metadata": {
        "colab": {
          "base_uri": "https://localhost:8080/"
        },
        "id": "QdPxTHWwh_AZ",
        "outputId": "93f82ccf-9d59-42ff-e459-cea4dcf43a06"
      },
      "execution_count": 16,
      "outputs": [
        {
          "output_type": "stream",
          "name": "stdout",
          "text": [
            "Overwriting WaitNotify.java\n"
          ]
        }
      ]
    },
    {
      "cell_type": "code",
      "source": [
        "!java WaitNotify.java"
      ],
      "metadata": {
        "colab": {
          "base_uri": "https://localhost:8080/"
        },
        "id": "TDun__E4puT-",
        "outputId": "334db183-9cf8-494a-9438-11186bfaab8b"
      },
      "execution_count": 18,
      "outputs": [
        {
          "output_type": "stream",
          "name": "stdout",
          "text": [
            "Hilo 0\n",
            "Hilo 1\n",
            "Hilo 2\n",
            "Hilo 3\n",
            "Hilo 4\n",
            "Hilo 5\n",
            "Hilo 6\n",
            "Hilo 7\n",
            "Hilo 8\n",
            "Hilo 9\n",
            "Fin del main \n"
          ]
        }
      ]
    },
    {
      "cell_type": "markdown",
      "source": [
        "Python: Events"
      ],
      "metadata": {
        "id": "6LJpgQZiq2kn"
      }
    },
    {
      "cell_type": "code",
      "source": [
        "import threading\n",
        "#import time\n",
        "MAX_THREADS = 10\n",
        "event = threading.Event()\n",
        "turn = 0\n",
        "\n",
        "def thread_in_order(id):\n",
        "    global turn\n",
        "\n",
        "    while turn != id:\n",
        "      event.wait()\n",
        "    #time.sleep(1)\n",
        "    print( f\"Hilo: {id}\" )\n",
        "    turn+=1\n",
        "    event.set()\n",
        "\n",
        "\n",
        "def main():\n",
        "    my_threads = []\n",
        "\n",
        "    for i in range(MAX_THREADS):\n",
        "        my_threads.append(threading.Thread(target=thread_in_order,args=(i,)))\n",
        "\n",
        "    for i in range(MAX_THREADS):\n",
        "        my_threads[i].start()\n",
        "\n",
        "    for i in range(MAX_THREADS):\n",
        "        my_threads[i].join()\n",
        "\n",
        "    print( \"Fin del main\" )\n",
        "\n",
        "if __name__ == '__main__':\n",
        "    main()"
      ],
      "metadata": {
        "colab": {
          "base_uri": "https://localhost:8080/"
        },
        "id": "UzapN8xopxD2",
        "outputId": "4df063b4-095b-4506-f252-5bdfd93e7928"
      },
      "execution_count": 37,
      "outputs": [
        {
          "output_type": "stream",
          "name": "stdout",
          "text": [
            "Hilo: 0\n",
            "Hilo: 1\n",
            "Hilo: 2\n",
            "Hilo: 3\n",
            "Hilo: 4\n",
            "Hilo: 5\n",
            "Hilo: 6\n",
            "Hilo: 7\n",
            "Hilo: 8\n",
            "Hilo: 9\n",
            "Fin del main\n"
          ]
        }
      ]
    }
  ]
}