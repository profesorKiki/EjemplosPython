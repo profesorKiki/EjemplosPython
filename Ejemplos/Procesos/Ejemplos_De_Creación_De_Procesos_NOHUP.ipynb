{
  "nbformat": 4,
  "nbformat_minor": 0,
  "metadata": {
    "colab": {
      "provenance": [],
      "authorship_tag": "ABX9TyMKK218GU7G7BCVS3p3mdFm",
      "include_colab_link": true
    },
    "kernelspec": {
      "name": "python3",
      "display_name": "Python 3"
    },
    "language_info": {
      "name": "python"
    }
  },
  "cells": [
    {
      "cell_type": "markdown",
      "metadata": {
        "id": "view-in-github",
        "colab_type": "text"
      },
      "source": [
        "<a href=\"https://colab.research.google.com/github/profesorKiki/EjemplosPython/blob/main/Ejemplos/Procesos/Ejemplos_De_Creaci%C3%B3n_De_Procesos_NOHUP.ipynb\" target=\"_parent\"><img src=\"https://colab.research.google.com/assets/colab-badge.svg\" alt=\"Open In Colab\"/></a>"
      ]
    },
    {
      "cell_type": "markdown",
      "source": [
        "# Práctica de procesos"
      ],
      "metadata": {
        "id": "O-jNV8PNf0XK"
      }
    },
    {
      "cell_type": "markdown",
      "source": [
        "Ejemplo en **Python**"
      ],
      "metadata": {
        "id": "L49n8MeYF7yU"
      }
    },
    {
      "cell_type": "code",
      "execution_count": 1,
      "metadata": {
        "colab": {
          "base_uri": "https://localhost:8080/"
        },
        "id": "77B0w4e3e2Nz",
        "outputId": "3d84f596-fdd5-409a-d252-778bdb230c2d"
      },
      "outputs": [
        {
          "output_type": "stream",
          "name": "stdout",
          "text": [
            "Writing fork.py\n"
          ]
        }
      ],
      "source": [
        "%%writefile fork.py\n",
        "import sys\n",
        "import os\n",
        "import time\n",
        "\n",
        "MAX_CHILD = 2\n",
        "\n",
        "print( f\"Proceso padre ({ os.getpid() })\", flush=True )\n",
        "\n",
        "for i in range(MAX_CHILD):\n",
        "    pid = os.fork()\n",
        "\n",
        "    if pid < 0:\n",
        "        sys.exit(\"Error al crear el nuevo proceso\")\n",
        "\n",
        "    if pid == 0:\n",
        "        print(f\"Hijo {i+1} ({ os.getpid() }) - Mi padre es ({ os.getppid() })\",flush=True)\n",
        "        time.sleep(15)\n",
        "        os._exit(0)\n",
        "\n",
        "for _ in range(2):\n",
        "    print( os.wait() )\n"
      ]
    },
    {
      "cell_type": "code",
      "source": [
        "!nohup python fork.py 1>salida 2>/dev/null &"
      ],
      "metadata": {
        "id": "TDs2yk5H31wL"
      },
      "execution_count": 61,
      "outputs": []
    },
    {
      "cell_type": "code",
      "source": [
        "!ps -aef\n"
      ],
      "metadata": {
        "id": "BgVYWbQFhKJg",
        "outputId": "4bffdee5-35fa-4fa1-93ce-4c4fe072f51e",
        "colab": {
          "base_uri": "https://localhost:8080/"
        }
      },
      "execution_count": 62,
      "outputs": [
        {
          "output_type": "stream",
          "name": "stdout",
          "text": [
            "UID          PID    PPID  C STIME TTY          TIME CMD\n",
            "root           1       0  0 21:17 ?        00:00:00 /sbin/docker-init -- /datala\n",
            "root           7       1  0 21:17 ?        00:00:02 /tools/node/bin/node /datala\n",
            "root          15       7  0 21:17 ?        00:00:00 /bin/bash -e /usr/local/cola\n",
            "root          17       1  0 21:17 ?        00:00:00 /bin/bash -e /datalab/run.sh\n",
            "root          19      17  0 21:17 ?        00:00:00 /usr/colab/bin/kernel_manage\n",
            "root          41       0  0 21:17 ?        00:00:00 tail -n +0 -F /root/.config/\n",
            "root          47       0  0 21:17 ?        00:00:00 tail -n +0 -F /root/.config/\n",
            "root          65       7  1 21:17 ?        00:00:19 [python3] <defunct>\n",
            "root          66       7  0 21:17 ?        00:00:00 python3 /usr/local/bin/colab\n",
            "root          87       7  0 21:17 ?        00:00:06 /usr/bin/python3 /usr/local/\n",
            "root          88       7  0 21:17 ?        00:00:00 /usr/local/bin/dap_multiplex\n",
            "root         389      87  0 21:18 ?        00:00:06 /usr/bin/python3 -m colab_ke\n",
            "root         417       1  0 21:18 ?        00:00:00 /usr/bin/python3 /usr/local/\n",
            "root         459       7  0 21:18 ?        00:00:00 /usr/colab/bin/language_serv\n",
            "root         469     459  1 21:18 ?        00:00:12 node /datalab/web/pyright/py\n",
            "root        4446       1  3 21:34 ?        00:00:00 python3 fork.py\n",
            "root        4448    4446  0 21:34 ?        00:00:00 python3 fork.py\n",
            "root        4449    4446  0 21:34 ?        00:00:00 python3 fork.py\n",
            "root        4457      15  0 21:34 ?        00:00:00 sleep 1\n",
            "root        4458     389  0 21:34 ?        00:00:00 ps -aef\n"
          ]
        }
      ]
    },
    {
      "cell_type": "code",
      "source": [
        "!pgrep -f \"fork.py\" | head -n 1"
      ],
      "metadata": {
        "id": "6ppc81teid8p",
        "outputId": "970ca1ef-6c20-4dab-e903-a303c3058537",
        "colab": {
          "base_uri": "https://localhost:8080/"
        }
      },
      "execution_count": 63,
      "outputs": [
        {
          "output_type": "stream",
          "name": "stdout",
          "text": [
            "4446\n"
          ]
        }
      ]
    },
    {
      "cell_type": "code",
      "source": [
        "!pstree -pc $(pidof \"python fork.py\")"
      ],
      "metadata": {
        "id": "Uv_ReTVE38Kh",
        "outputId": "7784abcf-2235-4ffd-aa62-93016a933845",
        "colab": {
          "base_uri": "https://localhost:8080/"
        }
      },
      "execution_count": 23,
      "outputs": [
        {
          "output_type": "stream",
          "name": "stdout",
          "text": [
            "docker-init(1)─┬─node(7)─┬─colab-fileshim.(66)\n",
            "               │         ├─dap_multiplexer(88)─┬─{dap_multiplexer}(89)\n",
            "               │         │                     ├─{dap_multiplexer}(90)\n",
            "               │         │                     └─{dap_multiplexer}(91)\n",
            "               │         ├─jupyter-noteboo(87)─┬─python3(389)─┬─pstree(1914)\n",
            "               │         │                     │              ├─{python3}(393)\n",
            "               │         │                     │              ├─{python3}(394)\n",
            "               │         │                     │              ├─{python3}(395)\n",
            "               │         │                     │              ├─{python3}(396)\n",
            "               │         │                     │              ├─{python3}(397)\n",
            "               │         │                     │              ├─{python3}(398)\n",
            "               │         │                     │              ├─{python3}(399)\n",
            "               │         │                     │              ├─{python3}(400)\n",
            "               │         │                     │              ├─{python3}(409)\n",
            "               │         │                     │              ├─{python3}(430)\n",
            "               │         │                     │              ├─{python3}(431)\n",
            "               │         │                     │              ├─{python3}(433)\n",
            "               │         │                     │              ├─{python3}(434)\n",
            "               │         │                     │              └─{python3}(447)\n",
            "               │         │                     ├─{jupyter-noteboo}(100)\n",
            "               │         │                     ├─{jupyter-noteboo}(390)\n",
            "               │         │                     └─{jupyter-noteboo}(391)\n",
            "               │         ├─language_servic(459)─┬─node(469)─┬─{node}(470)\n",
            "               │         │                      │           ├─{node}(471)\n",
            "               │         │                      │           ├─{node}(472)\n",
            "               │         │                      │           ├─{node}(473)\n",
            "               │         │                      │           ├─{node}(474)\n",
            "               │         │                      │           ├─{node}(476)\n",
            "               │         │                      │           └─{node}(477)\n",
            "               │         │                      ├─{language_servic}(460)\n",
            "               │         │                      ├─{language_servic}(461)\n",
            "               │         │                      ├─{language_servic}(462)\n",
            "               │         │                      ├─{language_servic}(467)\n",
            "               │         │                      ├─{language_servic}(475)\n",
            "               │         │                      └─{language_servic}(1121)\n",
            "               │         ├─oom_monitor.sh(15)───sleep(1913)\n",
            "               │         ├─python3(65)\n",
            "               │         ├─{node}(73)\n",
            "               │         ├─{node}(74)\n",
            "               │         ├─{node}(75)\n",
            "               │         ├─{node}(76)\n",
            "               │         ├─{node}(77)\n",
            "               │         ├─{node}(78)\n",
            "               │         ├─{node}(83)\n",
            "               │         ├─{node}(84)\n",
            "               │         ├─{node}(85)\n",
            "               │         └─{node}(86)\n",
            "               ├─python3(417)─┬─{python3}(427)\n",
            "               │              ├─{python3}(428)\n",
            "               │              ├─{python3}(429)\n",
            "               │              ├─{python3}(432)\n",
            "               │              ├─{python3}(456)\n",
            "               │              └─{python3}(457)\n",
            "               ├─python3(1898)─┬─python3(1900)\n",
            "               │               └─python3(1901)\n",
            "               └─run.sh(17)───kernel_manager_(19)─┬─{kernel_manager_}(27)\n",
            "                                                  ├─{kernel_manager_}(28)\n",
            "                                                  ├─{kernel_manager_}(29)\n",
            "                                                  └─{kernel_manager_}(31)\n"
          ]
        }
      ]
    },
    {
      "cell_type": "markdown",
      "source": [
        "Ejemplo en **Java**"
      ],
      "metadata": {
        "id": "iBi2IVjAbsu7"
      }
    },
    {
      "cell_type": "code",
      "source": [
        "%%writefile Padre.java\n",
        "import java.io.IOException;\n",
        "\n",
        "public class Padre\n",
        "{\n",
        "    public static void main(String[] args) throws IOException,  InterruptedException\n",
        "    {\n",
        "        ProcessBuilder pb = new ProcessBuilder(\"java\", \"Hijo.java\");\n",
        "        pb.redirectErrorStream(true);\n",
        "        pb.inheritIO();\n",
        "\n",
        "        Process proceso = pb.start();\n",
        "\n",
        "        int error = proceso.waitFor();\n",
        "\n",
        "        if( error != 0 )\n",
        "        {\n",
        "            System.out.println(\"Error al ejecutar el programa\");\n",
        "        }\n",
        "    }\n",
        "}"
      ],
      "metadata": {
        "id": "AAmu_hh_BkrC",
        "colab": {
          "base_uri": "https://localhost:8080/"
        },
        "outputId": "533f833d-e78f-44fc-8f5e-6e092805a43a"
      },
      "execution_count": null,
      "outputs": [
        {
          "output_type": "stream",
          "name": "stdout",
          "text": [
            "Overwriting Padre.java\n"
          ]
        }
      ]
    },
    {
      "cell_type": "code",
      "source": [
        "%%writefile Hijo.java\n",
        "class Hijo\n",
        "{\n",
        "    public static void main(String[] args) throws InterruptedException\n",
        "    {\n",
        "        ProcessHandle yo = ProcessHandle.current();\n",
        "        long pid  = yo.pid();\n",
        "        long ppid = yo.parent().get().pid();\n",
        "        System.out.println(\"Hijo: \" + pid + \". Padre: \" + ppid );\n",
        "        Thread.sleep(15000);\n",
        "    }\n",
        "}"
      ],
      "metadata": {
        "colab": {
          "base_uri": "https://localhost:8080/"
        },
        "id": "y6E-vq1cd6nE",
        "outputId": "53dc7f92-e24f-40e8-b733-5794d3a035b3"
      },
      "execution_count": null,
      "outputs": [
        {
          "output_type": "stream",
          "name": "stdout",
          "text": [
            "Overwriting Hijo.java\n"
          ]
        }
      ]
    },
    {
      "cell_type": "code",
      "source": [
        "!nohup java Padre.java 1>salida 2>/dev/null &"
      ],
      "metadata": {
        "id": "_iGE3rCQeSQK"
      },
      "execution_count": null,
      "outputs": []
    },
    {
      "cell_type": "code",
      "source": [
        "!pstree -pT 27508"
      ],
      "metadata": {
        "colab": {
          "base_uri": "https://localhost:8080/"
        },
        "id": "VHh3qxEQehA7",
        "outputId": "af7da9b0-3227-4683-debb-11dd80f7ccd3"
      },
      "execution_count": null,
      "outputs": [
        {
          "output_type": "stream",
          "name": "stdout",
          "text": [
            "java(27508)───java(27531)\n"
          ]
        }
      ]
    }
  ]
}