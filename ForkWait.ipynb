{
  "nbformat": 4,
  "nbformat_minor": 0,
  "metadata": {
    "colab": {
      "provenance": [],
      "authorship_tag": "ABX9TyPtowkHKIrjBa/m21AssggJ",
      "include_colab_link": true
    },
    "kernelspec": {
      "name": "python3",
      "display_name": "Python 3"
    },
    "language_info": {
      "name": "python"
    }
  },
  "cells": [
    {
      "cell_type": "markdown",
      "metadata": {
        "id": "view-in-github",
        "colab_type": "text"
      },
      "source": [
        "<a href=\"https://colab.research.google.com/github/profesorKiki/EjemplosPython/blob/main/ForkWait.ipynb\" target=\"_parent\"><img src=\"https://colab.research.google.com/assets/colab-badge.svg\" alt=\"Open In Colab\"/></a>"
      ]
    },
    {
      "cell_type": "code",
      "source": [
        "import os\n",
        "\t\n",
        "def parent():\n",
        "\tpid = os.fork()\n",
        "\n",
        "\tif pid < 0:\n",
        "\t\tprint(\"Error al crear el nuevo proceso\")\n",
        "\t\tos._exit(1)\n",
        "\t\t\n",
        "\tif pid:\n",
        "\t\tprint(\"Soy el proceso padre. PID: \", os.getpid() )\n",
        "\t\tprint( os.wait() )\n",
        "\telse:\n",
        "\t\tprint(\"Soy el proceso hijo. PID: \",  os.getpid())\n",
        "\t\tprint(\"Mi padre es el proceso con PID: \",  os.getppid())\n",
        "\t\tos._exit(0)\n",
        "\tos._exit(0)\t\n",
        " \n",
        "parent()"
      ],
      "metadata": {
        "colab": {
          "base_uri": "https://localhost:8080/"
        },
        "id": "6sbulYoMhnTj",
        "outputId": "b2fab21a-b4fa-49fc-92e7-5f8289f78ed2"
      },
      "execution_count": null,
      "outputs": [
        {
          "output_type": "stream",
          "name": "stdout",
          "text": [
            "Soy el proceso hijo. PID:  752\n",
            "Mi padre es el proceso con PID:  424\n"
          ]
        }
      ]
    },
    {
      "cell_type": "code",
      "source": [
        "!ls -l\n"
      ],
      "metadata": {
        "colab": {
          "base_uri": "https://localhost:8080/"
        },
        "id": "ZhLZ2YHchwJj",
        "outputId": "03709feb-b7fd-436a-a2dd-d5277816db33"
      },
      "execution_count": null,
      "outputs": [
        {
          "output_type": "stream",
          "name": "stdout",
          "text": [
            "total 4\n",
            "drwxr-xr-x 1 root root 4096 Mar 27 13:41 sample_data\n"
          ]
        }
      ]
    }
  ]
}