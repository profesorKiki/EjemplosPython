{
  "nbformat": 4,
  "nbformat_minor": 0,
  "metadata": {
    "colab": {
      "provenance": [],
      "authorship_tag": "ABX9TyOL2rUv5PyOEmdWdN66kIf4",
      "include_colab_link": true
    },
    "kernelspec": {
      "name": "python3",
      "display_name": "Python 3"
    },
    "language_info": {
      "name": "python"
    }
  },
  "cells": [
    {
      "cell_type": "markdown",
      "metadata": {
        "id": "view-in-github",
        "colab_type": "text"
      },
      "source": [
        "<a href=\"https://colab.research.google.com/github/profesorKiki/EjemplosPython/blob/main/ForkWait.ipynb\" target=\"_parent\"><img src=\"https://colab.research.google.com/assets/colab-badge.svg\" alt=\"Open In Colab\"/></a>"
      ]
    },
    {
      "cell_type": "markdown",
      "source": [
        "Ejemplo básico de creación de un proceso mediante **os.fork()** en Python"
      ],
      "metadata": {
        "id": "lL4bZJpW2NLT"
      }
    },
    {
      "cell_type": "code",
      "source": [
        "import os\n",
        "\t\n",
        "def parent():\n",
        "\tpid = os.fork()\n",
        "\n",
        "\tif pid < 0:\n",
        "\t\tprint(\"Error al crear el nuevo proceso\")\n",
        "\t\tos._exit(1)\n",
        "\t\t\n",
        "\tif pid:\n",
        "\t\tprint(\"Soy el proceso padre. PID: \", os.getpid() )\n",
        "\t\tprint( os.wait() )\n",
        "\telse:\n",
        "\t\tprint(\"Soy el proceso hijo. PID: \",  os.getpid())\n",
        "\t\tprint(\"Mi padre es el proceso con PID: \",  os.getppid())\n",
        "\t\tos._exit(0)\n",
        "\t\n",
        "parent()"
      ],
      "metadata": {
        "colab": {
          "base_uri": "https://localhost:8080/"
        },
        "id": "6sbulYoMhnTj",
        "outputId": "fa514c17-7a2a-497f-da28-d565d6549b68"
      },
      "execution_count": 2,
      "outputs": [
        {
          "output_type": "stream",
          "name": "stdout",
          "text": [
            "Soy el proceso hijo. PID:  21917\n",
            "Mi padre es el proceso con PID:  21538\n",
            "Soy el proceso padre. PID:  21538\n",
            "(21917, 0)\n"
          ]
        }
      ]
    },
    {
      "cell_type": "code",
      "source": [
        "!ls -l\n"
      ],
      "metadata": {
        "colab": {
          "base_uri": "https://localhost:8080/"
        },
        "id": "ZhLZ2YHchwJj",
        "outputId": "2a8b1dc0-9c22-4156-fd09-6bff0962bc8a"
      },
      "execution_count": 9,
      "outputs": [
        {
          "output_type": "stream",
          "name": "stdout",
          "text": [
            "total 4\n",
            "-rw-r--r-- 1 root root    0 Mar 29 10:55 pepe.py\n",
            "drwxr-xr-x 1 root root 4096 Mar 27 13:41 sample_data\n"
          ]
        }
      ]
    }
  ]
}