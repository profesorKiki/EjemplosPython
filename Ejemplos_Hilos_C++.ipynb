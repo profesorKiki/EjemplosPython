{
  "nbformat": 4,
  "nbformat_minor": 0,
  "metadata": {
    "colab": {
      "provenance": [],
      "authorship_tag": "ABX9TyPa+y0sGYxaOHP4KG/5tg/N",
      "include_colab_link": true
    },
    "kernelspec": {
      "name": "python3",
      "display_name": "Python 3"
    },
    "language_info": {
      "name": "python"
    }
  },
  "cells": [
    {
      "cell_type": "markdown",
      "metadata": {
        "id": "view-in-github",
        "colab_type": "text"
      },
      "source": [
        "<a href=\"https://colab.research.google.com/github/profesorKiki/EjemplosPython/blob/main/Ejemplos_Hilos_C%2B%2B.ipynb\" target=\"_parent\"><img src=\"https://colab.research.google.com/assets/colab-badge.svg\" alt=\"Open In Colab\"/></a>"
      ]
    },
    {
      "cell_type": "markdown",
      "source": [
        "# Ejemplos en C++"
      ],
      "metadata": {
        "id": "YAH4fOr5l_t5"
      }
    },
    {
      "cell_type": "markdown",
      "source": [
        "El hilo principal (el main) crea un hilo y luego espera su finalización a traves de join. <br> Por defecto los hilos son joinables, esto quiere decir que en algún momento se tendrá que joinear.\n",
        "\n",
        "En este ejemplo el main comparte la variable value con el hilo, pasando dicha variable por referencia."
      ],
      "metadata": {
        "id": "dgwZGJF7mK5f"
      }
    },
    {
      "cell_type": "code",
      "execution_count": null,
      "metadata": {
        "colab": {
          "base_uri": "https://localhost:8080/"
        },
        "id": "dxgwNkIiiW1E",
        "outputId": "7d6a5d0e-278b-4405-8c33-265376e7daa4"
      },
      "outputs": [
        {
          "output_type": "stream",
          "name": "stdout",
          "text": [
            "Overwriting ejemplo_hilos.cpp\n"
          ]
        }
      ],
      "source": [
        "%%writefile ejemplo_hilos.cpp\n",
        "#include <thread>\n",
        "#include <iostream>\n",
        "\n",
        "void IncreaseValue(int &value)\n",
        "{\n",
        "    value++;\n",
        "};\n",
        "\n",
        "int main( int argc, char *argv[] )\n",
        "{\n",
        "    int value = 0;\n",
        "\n",
        "    std::thread hilo_a(IncreaseValue, std::ref(value));\n",
        "\n",
        "    //hilo_a.join();\n",
        "\n",
        "    std::cout<<\"Valor final: \"<<value<<std::endl;\n",
        "\n",
        "    return EXIT_SUCCESS;\n",
        "}"
      ]
    },
    {
      "cell_type": "code",
      "source": [
        "!g++ -o ejemplo_hilos.bin ejemplo_hilos.cpp"
      ],
      "metadata": {
        "id": "eMHjGc5IkFs7"
      },
      "execution_count": null,
      "outputs": []
    },
    {
      "cell_type": "code",
      "source": [
        "!./ejemplo_hilos.bin"
      ],
      "metadata": {
        "colab": {
          "base_uri": "https://localhost:8080/"
        },
        "id": "bV1HPVACknB_",
        "outputId": "caaef8ae-549e-4407-b262-f9ae8ac06700"
      },
      "execution_count": null,
      "outputs": [
        {
          "output_type": "stream",
          "name": "stdout",
          "text": [
            "Valor final: 0\n",
            "terminate called without an active exception\n"
          ]
        }
      ]
    },
    {
      "cell_type": "markdown",
      "source": [
        "Si no hacemos el join, al finalizar el hilo finalizará el programa arrojando un error."
      ],
      "metadata": {
        "id": "vzTvkx5ZnbcQ"
      }
    },
    {
      "cell_type": "code",
      "source": [
        "%%writefile ejemplo_hilos.cpp\n",
        "#include <thread>\n",
        "#include <iostream>\n",
        "#include <unistd.h>\n",
        "\n",
        "void IncreaseValue(int &value)\n",
        "{\n",
        "    value++;\n",
        "};\n",
        "\n",
        "int main( int argc, char *argv[] )\n",
        "{\n",
        "    int value = 0;\n",
        "\n",
        "    std::thread hilo_a(IncreaseValue, std::ref(value));\n",
        "\n",
        "    //hilo_a.join();\n",
        "    //sleep(2);\n",
        "    std::cout<<\"Valor final: \"<<value<<std::endl;\n",
        "\n",
        "    return EXIT_SUCCESS;\n",
        "}"
      ],
      "metadata": {
        "colab": {
          "base_uri": "https://localhost:8080/"
        },
        "id": "tAr9a4mUl-lD",
        "outputId": "dcc79e31-556e-473c-f94e-611872543012"
      },
      "execution_count": null,
      "outputs": [
        {
          "output_type": "stream",
          "name": "stdout",
          "text": [
            "Writing ejemplo_hilos.cpp\n"
          ]
        }
      ]
    },
    {
      "cell_type": "code",
      "source": [
        "!g++ -o ejemplo_hilos.bin ejemplo_hilos.cpp"
      ],
      "metadata": {
        "id": "jU31r8b1zdW6"
      },
      "execution_count": null,
      "outputs": []
    },
    {
      "cell_type": "code",
      "source": [
        "!./ejemplo_hilos.bin"
      ],
      "metadata": {
        "colab": {
          "base_uri": "https://localhost:8080/"
        },
        "id": "cdOYGQIwp48S",
        "outputId": "5d220636-bc5e-41fa-cb7f-c28df833890b"
      },
      "execution_count": null,
      "outputs": [
        {
          "output_type": "stream",
          "name": "stdout",
          "text": [
            "Valor final: 0\n",
            "terminate called without an active exception\n"
          ]
        }
      ]
    },
    {
      "cell_type": "markdown",
      "source": [
        "Para evitar dicha situación, en caso de no necesitar de esperar la finalización del hilo, <br> declaramos al mismo como independiente (detached)"
      ],
      "metadata": {
        "id": "xbe7G73YzmEJ"
      }
    },
    {
      "cell_type": "code",
      "source": [
        "%%writefile ejemplo_hilos.cpp\n",
        "#include <thread>\n",
        "#include <iostream>\n",
        "\n",
        "void IncreaseValue(int &value)\n",
        "{\n",
        "    value++;\n",
        "};\n",
        "\n",
        "int main( int argc, char *argv[] )\n",
        "{\n",
        "    int value = 0;\n",
        "\n",
        "    std::thread hilo_a(IncreaseValue, std::ref(value));\n",
        "\n",
        "    hilo_a.detach();\n",
        "\n",
        "    return EXIT_SUCCESS;\n",
        "}"
      ],
      "metadata": {
        "colab": {
          "base_uri": "https://localhost:8080/"
        },
        "id": "r_WJk92OvtgL",
        "outputId": "1c654ced-4d05-49fd-d2c2-023a11a29133"
      },
      "execution_count": null,
      "outputs": [
        {
          "output_type": "stream",
          "name": "stdout",
          "text": [
            "Overwriting ejemplo_hilos.cpp\n"
          ]
        }
      ]
    },
    {
      "cell_type": "code",
      "source": [
        "!g++ -o ejemplo_hilos.bin ejemplo_hilos.cpp"
      ],
      "metadata": {
        "id": "KuXZdGXdzghM"
      },
      "execution_count": null,
      "outputs": []
    },
    {
      "cell_type": "code",
      "source": [
        "!./ejemplo_hilos.bin"
      ],
      "metadata": {
        "id": "OJtUmK_Bzg25"
      },
      "execution_count": null,
      "outputs": []
    },
    {
      "cell_type": "markdown",
      "source": [
        "Otra alternativa es utilizar jthread (C++ 20) en lugar de thread, jthread mantiene la misma funcionalidad de thread y además realiza el joineo de los hilos automáticamente sin tener que especificar join()."
      ],
      "metadata": {
        "id": "Sk8tIWuU1cGV"
      }
    },
    {
      "cell_type": "code",
      "source": [
        "%%writefile ejemplo_hilos.cpp\n",
        "#include <thread>\n",
        "#include <iostream>\n",
        "\n",
        "void IncreaseValue(int &value)\n",
        "{\n",
        "    value++;\n",
        "    std::cout<<\"Valor final: \"<<value<<std::endl;\n",
        "};\n",
        "\n",
        "int main( int argc, char *argv[] )\n",
        "{\n",
        "    int value = 0;\n",
        "\n",
        "    std::jthread hilo_a(IncreaseValue, std::ref(value));\n",
        "\n",
        "    return EXIT_SUCCESS;\n",
        "}"
      ],
      "metadata": {
        "colab": {
          "base_uri": "https://localhost:8080/"
        },
        "id": "s2sBCc9Z2Xbb",
        "outputId": "1f12f24f-c793-4bda-a971-d9d942212bc9"
      },
      "execution_count": null,
      "outputs": [
        {
          "output_type": "stream",
          "name": "stdout",
          "text": [
            "Overwriting ejemplo_hilos.cpp\n"
          ]
        }
      ]
    },
    {
      "cell_type": "code",
      "source": [
        "!g++ -o ejemplo_hilos.bin ejemplo_hilos.cpp -std=c++20"
      ],
      "metadata": {
        "id": "r0t38byY2hbJ"
      },
      "execution_count": null,
      "outputs": []
    },
    {
      "cell_type": "code",
      "source": [
        "!./ejemplo_hilos.bin"
      ],
      "metadata": {
        "colab": {
          "base_uri": "https://localhost:8080/"
        },
        "id": "-5uUjZ5w2uhU",
        "outputId": "83c465d2-d09f-4331-f0c9-d1c55fa51967"
      },
      "execution_count": null,
      "outputs": [
        {
          "output_type": "stream",
          "name": "stdout",
          "text": [
            "Valor final: 1\n"
          ]
        }
      ]
    },
    {
      "cell_type": "code",
      "source": [
        "%%writefile ejemplo.cpp\n",
        "#include<stdio.h>\n",
        "\n",
        "int main(){\n",
        "    return 0;\n",
        "}"
      ],
      "metadata": {
        "colab": {
          "base_uri": "https://localhost:8080/"
        },
        "id": "x1QNTQBjituy",
        "outputId": "a7d44742-e55a-49a9-dfcb-7e5a4385a024"
      },
      "execution_count": null,
      "outputs": [
        {
          "output_type": "stream",
          "name": "stdout",
          "text": [
            "Writing ejemplo.cpp\n"
          ]
        }
      ]
    },
    {
      "cell_type": "code",
      "source": [
        "!g++ -o pepe ./ejemplo.cpp"
      ],
      "metadata": {
        "id": "xWqGmt5TjAuq"
      },
      "execution_count": null,
      "outputs": []
    },
    {
      "cell_type": "code",
      "source": [
        "!size -d pepe"
      ],
      "metadata": {
        "colab": {
          "base_uri": "https://localhost:8080/"
        },
        "id": "qRYB7ZsUjEI9",
        "outputId": "b246b4b5-59e0-480a-91b3-5007f9b4b8ea"
      },
      "execution_count": null,
      "outputs": [
        {
          "output_type": "stream",
          "name": "stdout",
          "text": [
            "   text\t   data\t    bss\t    dec\t    hex\tfilename\n",
            "   1228\t    544\t      8\t   1780\t    6f4\tpepe\n"
          ]
        }
      ]
    },
    {
      "cell_type": "code",
      "source": [
        "!ls -la"
      ],
      "metadata": {
        "colab": {
          "base_uri": "https://localhost:8080/"
        },
        "id": "q3P2BhqRjI87",
        "outputId": "e24cc312-e12f-4759-e1fb-3d5cf9e06d35"
      },
      "execution_count": null,
      "outputs": [
        {
          "output_type": "stream",
          "name": "stdout",
          "text": [
            "total 36\n",
            "drwxr-xr-x 1 root root  4096 Sep  6 11:51 .\n",
            "drwxr-xr-x 1 root root  4096 Sep  6 11:50 ..\n",
            "drwxr-xr-x 4 root root  4096 Sep  1 13:20 .config\n",
            "-rw-r--r-- 1 root root    48 Sep  6 11:51 ejemplo.cpp\n",
            "-rwxr-xr-x 1 root root 15784 Sep  6 11:51 pepe\n",
            "drwxr-xr-x 1 root root  4096 Sep  1 13:21 sample_data\n"
          ]
        }
      ]
    },
    {
      "cell_type": "code",
      "source": [],
      "metadata": {
        "id": "LD0UpWGmjMKj"
      },
      "execution_count": null,
      "outputs": []
    }
  ]
}