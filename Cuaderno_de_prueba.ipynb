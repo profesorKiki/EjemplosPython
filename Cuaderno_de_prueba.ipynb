{
  "nbformat": 4,
  "nbformat_minor": 0,
  "metadata": {
    "colab": {
      "provenance": [],
      "authorship_tag": "ABX9TyOuM7FksKPMqTNPnS4TPUvH",
      "include_colab_link": true
    },
    "kernelspec": {
      "name": "python3",
      "display_name": "Python 3"
    },
    "language_info": {
      "name": "python"
    }
  },
  "cells": [
    {
      "cell_type": "markdown",
      "metadata": {
        "id": "view-in-github",
        "colab_type": "text"
      },
      "source": [
        "<a href=\"https://colab.research.google.com/github/profesorKiki/EjemplosPython/blob/main/Cuaderno_de_prueba.ipynb\" target=\"_parent\"><img src=\"https://colab.research.google.com/assets/colab-badge.svg\" alt=\"Open In Colab\"/></a>"
      ]
    },
    {
      "cell_type": "markdown",
      "source": [
        "# Creación de procesos"
      ],
      "metadata": {
        "id": "Mr4GQawE01Z_"
      }
    },
    {
      "cell_type": "code",
      "execution_count": 1,
      "metadata": {
        "colab": {
          "base_uri": "https://localhost:8080/"
        },
        "id": "uAcQwpd90XcN",
        "outputId": "c5bf39e4-ac11-4a01-877d-10640787c845"
      },
      "outputs": [
        {
          "output_type": "stream",
          "name": "stdout",
          "text": [
            "Soy el proceso hijo. PID:  206\n",
            "Mi padre es el proceso con PID:  142\n",
            "Soy el proceso padre. PID:  142\n",
            "(206, 0)\n"
          ]
        }
      ],
      "source": [
        "import os\n",
        "import sys\n",
        "\n",
        "pid = os.fork()\n",
        "\n",
        "if pid < 0:\n",
        "    sys.exit(\"Error al crear el nuevo proceso\")\n",
        "\n",
        "if pid:\n",
        "    print(\"Soy el proceso padre. PID: \", os.getpid() )\n",
        "    print( os.wait() )\n",
        "else:\n",
        "    print(\"Soy el proceso hijo. PID: \",  os.getpid())\n",
        "    print(\"Mi padre es el proceso con PID: \",  os.getppid())\n",
        "    os._exit( os.EX_OK )"
      ]
    },
    {
      "cell_type": "code",
      "source": [
        "%%writefile fork_wait.c\n",
        "#include <stdlib.h>\n",
        "#include <stdio.h>\n",
        "#include <unistd.h>\n",
        "#include <sys/wait.h>\n",
        "\n",
        "int main(int argc, char *argv[])\n",
        "{\n",
        "    pid_t pid = fork();\n",
        "\n",
        "    if( pid < 0 )\n",
        "    {\n",
        "        printf(\"Error de creación\\n\");\n",
        "        return EXIT_FAILURE;\n",
        "    }\n",
        "\n",
        "    if( pid )\n",
        "    {\n",
        "        printf(\"Soy el padre. PID: %d\\n\",getpid());\n",
        "        wait(NULL);\n",
        "    }\n",
        "    else\n",
        "    {\n",
        "        printf(\"Soy el hijo. PID: %d\\n\",getpid());\n",
        "        printf(\"Mi padre es PID: %d\\n\",getppid());\n",
        "        return EXIT_SUCCESS;\n",
        "    }\n",
        "\n",
        "    return EXIT_SUCCESS;\n",
        "}"
      ],
      "metadata": {
        "colab": {
          "base_uri": "https://localhost:8080/"
        },
        "id": "620wkrg41b4F",
        "outputId": "843f3d43-7a81-45de-c3c9-289792cd37fa"
      },
      "execution_count": 2,
      "outputs": [
        {
          "output_type": "stream",
          "name": "stdout",
          "text": [
            "Writing fork_wait.c\n"
          ]
        }
      ]
    },
    {
      "cell_type": "code",
      "source": [
        "!./prueba"
      ],
      "metadata": {
        "colab": {
          "base_uri": "https://localhost:8080/"
        },
        "id": "rkH6jajE1v8Y",
        "outputId": "756d968e-6657-42fd-f209-1356ca1e0175"
      },
      "execution_count": 5,
      "outputs": [
        {
          "output_type": "stream",
          "name": "stdout",
          "text": [
            "Soy el padre. PID: 1574\n",
            "Soy el hijo. PID: 1575\n",
            "Mi padre es PID: 1574\n"
          ]
        }
      ]
    }
  ]
}