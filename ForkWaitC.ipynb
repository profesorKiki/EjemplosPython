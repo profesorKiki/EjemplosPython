{
  "nbformat": 4,
  "nbformat_minor": 0,
  "metadata": {
    "colab": {
      "provenance": [],
      "authorship_tag": "ABX9TyNYRugH77JhglD1f6dUrLLK",
      "include_colab_link": true
    },
    "kernelspec": {
      "name": "python3",
      "display_name": "Python 3"
    },
    "language_info": {
      "name": "python"
    }
  },
  "cells": [
    {
      "cell_type": "markdown",
      "metadata": {
        "id": "view-in-github",
        "colab_type": "text"
      },
      "source": [
        "<a href=\"https://colab.research.google.com/github/profesorKiki/EjemplosPython/blob/main/ForkWaitC.ipynb\" target=\"_parent\"><img src=\"https://colab.research.google.com/assets/colab-badge.svg\" alt=\"Open In Colab\"/></a>"
      ]
    },
    {
      "cell_type": "markdown",
      "source": [
        "Ejemplo básico de creación de un proceso mediante **os.fork()** en Python"
      ],
      "metadata": {
        "id": "lL4bZJpW2NLT"
      }
    },
    {
      "cell_type": "code",
      "source": [
        "%%writefile fork_wait_2.c\n",
        "#include <stdlib.h>\n",
        "#include <stdio.h>\n",
        "#include <unistd.h>\n",
        "#include <sys/wait.h>\n",
        "\n",
        "int main(int argc, char *argv[])\n",
        "{\n",
        "\tpid_t pid;\n",
        "\t\n",
        "  \tpid = fork();\n",
        "\t\n",
        "\tif( pid < 0 )\n",
        "\t{\n",
        "\t\tprintf(\"Error al crear el nuevo proceso\\n\");\n",
        "  \t\treturn EXIT_FAILURE;\n",
        "\t}\n",
        "\t\n",
        "\tif( pid )\n",
        "\t{\n",
        "\t\tprintf(\"Soy el proceso padre. PID: %d\\n\",getpid());\n",
        "\t\twait(NULL);\n",
        "\t}\n",
        "\telse\n",
        "\t{\n",
        "\t\tprintf(\"Soy el proceso hijo. PID: %d\\n\",getpid());\n",
        "\t\tprintf(\"Mi padre es el proceso con PID: %d\\n\",getppid());\n",
        "\t\treturn EXIT_SUCCESS;\t\n",
        "\t}\n",
        "\t\n",
        "  \treturn EXIT_SUCCESS;\n",
        "}"
      ],
      "metadata": {
        "colab": {
          "base_uri": "https://localhost:8080/"
        },
        "id": "6sbulYoMhnTj",
        "outputId": "3e655db8-f372-40be-a4cd-9adac11522c8"
      },
      "execution_count": 24,
      "outputs": [
        {
          "output_type": "stream",
          "name": "stdout",
          "text": [
            "Writing fork_wait_2.c\n"
          ]
        }
      ]
    },
    {
      "cell_type": "code",
      "source": [
        "!g++ -o pepe fork_wait_2.c "
      ],
      "metadata": {
        "id": "ZhLZ2YHchwJj"
      },
      "execution_count": 25,
      "outputs": []
    }
  ]
}